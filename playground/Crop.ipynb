{
 "cells": [
  {
   "cell_type": "code",
   "execution_count": 2,
   "metadata": {},
   "outputs": [],
   "source": [
    "import numpy as np\n",
    "import numpy.testing as npt"
   ]
  },
  {
   "cell_type": "code",
   "execution_count": 3,
   "metadata": {},
   "outputs": [],
   "source": [
    "im = np.zeros((608,608))\n",
    "im[399,399]=1\n",
    "im[607,607]=1\n",
    "im[607,0]=1\n",
    "im[0,607]=1"
   ]
  },
  {
   "cell_type": "code",
   "execution_count": 4,
   "metadata": {},
   "outputs": [
    {
     "name": "stdout",
     "output_type": "stream",
     "text": [
      "i0 =  0 i_plus_h =  399\n",
      "j0 =  0 j_plus_w =  399\n",
      "im_patch :  (400, 400)\n",
      "i0 =  0 i_plus_h =  399\n",
      "j0 =  208 j_plus_w =  607\n",
      "im_patch :  (400, 400)\n",
      "i0 =  208 i_plus_h =  607\n",
      "j0 =  0 j_plus_w =  399\n",
      "im_patch :  (400, 400)\n",
      "i0 =  208 i_plus_h =  607\n",
      "j0 =  208 j_plus_w =  607\n",
      "im_patch :  (400, 400)\n"
     ]
    }
   ],
   "source": [
    "# Extract patches from a given image\n",
    "def img_crop_(im, h, w):\n",
    "    list_patches = []\n",
    "    imgwidth = im.shape[0]\n",
    "    imgheight = im.shape[1]\n",
    "    is_2d = len(im.shape) < 3\n",
    "    \n",
    "    for i in range(0, imgheight, h):\n",
    "        \n",
    "        i0 = i\n",
    "        \n",
    "        for j in range(0, imgwidth, w):\n",
    "            \n",
    "            j0 = j\n",
    "            \n",
    "            j_plus_w = j+w-1\n",
    "            i_plus_h = i+h-1\n",
    "            \n",
    "            if i_plus_h >= imgheight:\n",
    "                i_plus_h = imgheight-1\n",
    "                i0= imgheight - h\n",
    "                        \n",
    "            if j_plus_w >= imgwidth:\n",
    "                j_plus_w = imgwidth-1\n",
    "                j0 = imgwidth - w\n",
    "                \n",
    "            print(\"i0 = \", i0, \"i_plus_h = \", i_plus_h)\n",
    "            print(\"j0 = \", j0, \"j_plus_w = \", j_plus_w)\n",
    "            \n",
    "            if is_2d:\n",
    "                im_patch = im[i0:i_plus_h+1, j0:j_plus_w+1]\n",
    "            else:\n",
    "                im_patch = im[i0:i_plus_h+1, j0:j_plus_w+1, :]\n",
    "                \n",
    "            print(\"im_patch : \", im_patch.shape)\n",
    "            list_patches.append(im_patch)\n",
    "\n",
    "    \n",
    "    return list_patches\n",
    "\n",
    "list_patches = img_crop_(im,400,400)"
   ]
  },
  {
   "cell_type": "code",
   "execution_count": 5,
   "metadata": {},
   "outputs": [],
   "source": [
    "npt.assert_equal(list_patches[0][399,399],1)\n",
    "npt.assert_equal(list_patches[1][399,399-208],1)\n",
    "npt.assert_equal(list_patches[2][399-208,399],1)\n",
    "npt.assert_equal(list_patches[3][399-208,399-208],1)\n",
    "npt.assert_equal(list_patches[1][0,399],1)\n",
    "npt.assert_equal(list_patches[2][399,0],1)\n",
    "npt.assert_equal(list_patches[3][399,399],1)"
   ]
  },
  {
   "cell_type": "code",
   "execution_count": 6,
   "metadata": {},
   "outputs": [],
   "source": [
    "def build_from_patches(list_patches, h, w):\n",
    "    patch_width = list_patches[0].shape[0]\n",
    "    patch_height = list_patches[0].shape[1]\n",
    "    is_2d = len(list_patches[0].shape) < 3\n",
    "    rebuild_img = np.zeros((h, w))\n",
    "    \n",
    "    npt.assert_equal(is_2d == True, True)\n",
    "    npt.assert_equal(len(list_patches) == 4, True)\n",
    "    \n",
    "    for i in range(0, patch_height):\n",
    "        for j in range(0, patch_width):\n",
    "            rebuild_img[i,j] = list_patches[0][i,j]\n",
    "\n",
    "    width_begin = patch_width-(w%patch_width)\n",
    "    for i in range(0, patch_height):\n",
    "        for j in range(width_begin, patch_width):\n",
    "            rebuild_img[i,patch_width+j-width_begin] = list_patches[1][i,j]\n",
    "\n",
    "    height_begin = patch_height-(h%patch_height)\n",
    "    for i in range(height_begin, patch_height):\n",
    "        for j in range(0, patch_width):\n",
    "            rebuild_img[patch_height+i-height_begin,j] = list_patches[2][i,j]\n",
    "\n",
    "    for i in range(patch_height-(h%patch_height), patch_height):\n",
    "        for j in range(0, patch_width):\n",
    "            rebuild_img[patch_height+i-height_begin,patch_width+j-width_begin] = list_patches[3][i,j]\n",
    "\n",
    "    return rebuild_img\n",
    "                \n",
    "rebuild_img = build_from_patches(list_patches, 608, 608)\n",
    "\n",
    "npt.assert_equal(rebuild_img[399,399],1)\n",
    "npt.assert_equal(rebuild_img[0,607],1)\n",
    "npt.assert_equal(rebuild_img[607,0],1)\n",
    "npt.assert_equal(rebuild_img[607,607],1)\n"
   ]
  },
  {
   "cell_type": "code",
   "execution_count": 11,
   "metadata": {},
   "outputs": [],
   "source": [
    "def build_mask_taking_max(list_patches, h, w):\n",
    "    patch_width = list_patches[0].shape[0]\n",
    "    patch_height = list_patches[0].shape[1]\n",
    "    is_2d = len(list_patches[0].shape) < 3\n",
    "    rebuild_img = np.zeros((h, w))\n",
    "    \n",
    "    npt.assert_equal(is_2d == True, True)\n",
    "    npt.assert_equal(len(list_patches) == 4, True)\n",
    "    \n",
    "    for i in range(0, patch_height):\n",
    "        for j in range(0, patch_width):\n",
    "            val = list_patches[0][i,j]\n",
    "            if val > 0:\n",
    "                rebuild_img[i,j] = val\n",
    "\n",
    "    width_begin = patch_width-(w%patch_width)\n",
    "    for i in range(0, patch_height):\n",
    "        for j in range(0, patch_width):\n",
    "            val = list_patches[1][i,j]\n",
    "            if val > 0:\n",
    "                rebuild_img[i,patch_width+j-width_begin] = val\n",
    "\n",
    "    height_begin = patch_height-(h%patch_height)\n",
    "    for i in range(0, patch_height):\n",
    "        for j in range(0, patch_width):\n",
    "            val = list_patches[2][i,j]\n",
    "            if val > 0:\n",
    "                rebuild_img[patch_height+i-height_begin,j] = val\n",
    "\n",
    "    for i in range(0, patch_height):\n",
    "        for j in range(0, patch_width):\n",
    "            val = list_patches[3][i,j]\n",
    "            if val > 0:\n",
    "                rebuild_img[patch_height+i-height_begin,patch_width+j-width_begin] = val\n",
    "\n",
    "    return rebuild_img\n",
    "                \n",
    "rebuild_img = build_mask_taking_max(list_patches, 608, 608)\n",
    "\n",
    "npt.assert_equal(rebuild_img[399,399],1)\n",
    "npt.assert_equal(rebuild_img[0,607],1)\n",
    "npt.assert_equal(rebuild_img[607,0],1)\n",
    "npt.assert_equal(rebuild_img[607,607],1)"
   ]
  },
  {
   "cell_type": "code",
   "execution_count": null,
   "metadata": {},
   "outputs": [],
   "source": []
  },
  {
   "cell_type": "code",
   "execution_count": null,
   "metadata": {},
   "outputs": [],
   "source": []
  }
 ],
 "metadata": {
  "kernelspec": {
   "display_name": "Python 3",
   "language": "python",
   "name": "python3"
  },
  "language_info": {
   "codemirror_mode": {
    "name": "ipython",
    "version": 3
   },
   "file_extension": ".py",
   "mimetype": "text/x-python",
   "name": "python",
   "nbconvert_exporter": "python",
   "pygments_lexer": "ipython3",
   "version": "3.7.9"
  }
 },
 "nbformat": 4,
 "nbformat_minor": 4
}
